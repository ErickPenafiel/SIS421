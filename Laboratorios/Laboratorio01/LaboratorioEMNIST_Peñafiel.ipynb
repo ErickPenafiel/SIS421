{
  "cells": [
    {
      "cell_type": "code",
      "execution_count": null,
      "metadata": {
        "id": "6Hwf3htX7C3U"
      },
      "outputs": [],
      "source": [
        "import torch"
      ]
    },
    {
      "cell_type": "code",
      "execution_count": null,
      "metadata": {
        "colab": {
          "background_save": true,
          "base_uri": "https://localhost:8080/",
          "height": 435
        },
        "id": "7edgczr97Vsj",
        "outputId": "6317b802-1f4f-4890-e8f9-1e38557b4e4d"
      },
      "outputs": [
        {
          "name": "stderr",
          "output_type": "stream",
          "text": [
            "/usr/local/lib/python3.8/dist-packages/sklearn/datasets/_openml.py:932: FutureWarning: The default value of `parser` will change from `'liac-arff'` to `'auto'` in 1.4. You can set `parser='auto'` to silence this warning. Therefore, an `ImportError` will be raised from 1.4 if the dataset is dense and pandas is not installed. Note that the pandas parser may return different data types. See the Notes Section in fetch_openml's API doc for details.\n",
            "  warn(\n"
          ]
        },
        {
          "data": {
            "text/plain": [
              "((131600, 784), (131600,))"
            ]
          },
          "execution_count": 4,
          "metadata": {},
          "output_type": "execute_result"
        }
      ],
      "source": [
        "from sklearn.datasets import fetch_openml\n",
        "\n",
        "# descarga datos\n",
        "\n",
        "mnist = fetch_openml('EMNIST_Balanced', version=1)\n",
        "# mnist = fetch_openml('mnist_784', version=1\n",
        "X, Y = mnist[\"data\"], mnist[\"target\"]\n",
        "\n",
        "X.shape, Y.shape"
      ]
    },
    {
      "cell_type": "code",
      "execution_count": null,
      "metadata": {
        "colab": {
          "background_save": true
        },
        "id": "cgQOHhyQBOC6",
        "outputId": "47878ebe-73f8-4e14-b3ae-a3445d3d71a1"
      },
      "outputs": [
        {
          "name": "stdout",
          "output_type": "stream",
          "text": [
            "0         45\n",
            "1         36\n",
            "2         43\n",
            "3         15\n",
            "4          4\n",
            "          ..\n",
            "131595    45\n",
            "131596    15\n",
            "131597     1\n",
            "131598    26\n",
            "131599    33\n",
            "Name: class, Length: 131600, dtype: category\n",
            "Categories (47, object): ['0', '1', '10', '11', ..., '6', '7', '8', '9']\n"
          ]
        }
      ],
      "source": [
        "print(Y)"
      ]
    },
    {
      "cell_type": "code",
      "execution_count": null,
      "metadata": {
        "colab": {
          "background_save": true
        },
        "id": "o0BCHZFy9Nm8"
      },
      "outputs": [],
      "source": [
        "import numpy as np\n",
        "X = X.to_numpy()\n",
        "Y = Y.to_numpy()"
      ]
    },
    {
      "cell_type": "code",
      "execution_count": null,
      "metadata": {
        "colab": {
          "background_save": true
        },
        "id": "acj6jmF08obd",
        "outputId": "90df38d0-047e-4a10-e092-eef5a4f775d7"
      },
      "outputs": [
        {
          "data": {
            "image/png": "[encoded data removed]",
            "text/plain": [
              "<Figure size 720x432 with 15 Axes>"
            ]
          },
          "metadata": {},
          "output_type": "display_data"
        }
      ],
      "source": [
        "%matplotlib inline\n",
        "\n",
        "import matplotlib as mpl\n",
        "import matplotlib.pyplot as plt\n",
        "import random\n",
        "\n",
        "r, c = 3, 5\n",
        "fig = plt.figure(figsize=(2*c, 2*r))\n",
        "for _r in range(r):\n",
        "    for _c in range(c):\n",
        "        plt.subplot(r, c, _r*c + _c + 1)\n",
        "        ix = random.randint(0, len(X)-1)\n",
        "        img = X[ix]\n",
        "        img = img.reshape(28,28)\n",
        "        img = np.fliplr(img)\n",
        "        img = np.rot90(img)\n",
        "        plt.imshow(img, cmap='gray')\n",
        "        plt.axis(\"off\")\n",
        "        plt.title(Y[ix])\n",
        "plt.tight_layout()\n",
        "plt.show()"
      ]
    },
    {
      "cell_type": "code",
      "execution_count": null,
      "metadata": {
        "colab": {
          "background_save": true
        },
        "id": "iaID6lFNC2Ns",
        "outputId": "353b561b-16ad-4ba0-984e-3697a1838c85"
      },
      "outputs": [
        {
          "name": "stderr",
          "output_type": "stream",
          "text": [
            "<ipython-input-8-9c136158efb2>:7: DeprecationWarning: `np.int` is a deprecated alias for the builtin `int`. To silence this warning, use `int` by itself. Doing this will not modify any behavior and is safe. When replacing `np.int`, you may wish to use e.g. `np.int64` or `np.int32` to specify the precision. If you wish to review your current use, check the release note link for additional information.\n",
            "Deprecated in NumPy 1.20; for more details and guidance: https://numpy.org/devdocs/release/1.20.0-notes.html#deprecations\n",
            "  X_train, X_test, y_train, y_test = X[:60000] / 255., X[60000:] / 255., Y[:60000].astype(np.int), Y[60000:].astype(np.int)\n"
          ]
        }
      ],
      "source": [
        "import numpy as np\n",
        "\n",
        "X = np.array(X)\n",
        "Y = np.array(Y)\n",
        "# normalización y split\n",
        "\n",
        "X_train, X_test, y_train, y_test = X[:60000] / 255., X[60000:] / 255., Y[:60000].astype(np.int), Y[60000:].astype(np.int)"
      ]
    },
    {
      "cell_type": "code",
      "execution_count": null,
      "metadata": {
        "colab": {
          "background_save": true
        },
        "id": "V9Qr7O2TDTsu"
      },
      "outputs": [],
      "source": [
        "# función de pérdida y derivada\n",
        "\n",
        "def softmax(x):\n",
        "    return torch.exp(x) / torch.exp(x).sum(axis=-1,keepdims=True)\n",
        "\n",
        "def cross_entropy(output, target):\n",
        "    logits = output[torch.arange(len(output)), target]\n",
        "    loss = - logits + torch.log(torch.sum(torch.exp(output), axis=-1))\n",
        "    loss = loss.mean()\n",
        "    return loss"
      ]
    },
    {
      "cell_type": "code",
      "execution_count": null,
      "metadata": {
        "colab": {
          "background_save": true
        },
        "id": "-zmY_xC7DW0y",
        "outputId": "33b3ea16-f869-40bb-ce02-a6b29844639d"
      },
      "outputs": [
        {
          "data": {
            "text/plain": [
              "True"
            ]
          },
          "execution_count": 10,
          "metadata": {},
          "output_type": "execute_result"
        }
      ],
      "source": [
        "torch.cuda.is_available()"
      ]
    },
    {
      "cell_type": "code",
      "execution_count": null,
      "metadata": {
        "colab": {
          "background_save": true
        },
        "id": "FbrP80Mm3Ffs"
      },
      "outputs": [],
      "source": [
        "D_in, H, D_out = 784, 400, 47\n",
        "\n",
        "model = torch.nn.Sequential(\n",
        "    torch.nn.Linear(D_in, H),\n",
        "    torch.nn.ReLU(),\n",
        "    torch.nn.Linear(H, D_out),\n",
        ")"
      ]
    },
    {
      "cell_type": "code",
      "execution_count": null,
      "metadata": {
        "colab": {
          "background_save": true
        },
        "id": "1D6vvugk2jwb"
      },
      "outputs": [],
      "source": [
        "criterion = torch.nn.CrossEntropyLoss()"
      ]
    },
    {
      "cell_type": "code",
      "execution_count": null,
      "metadata": {
        "colab": {
          "background_save": true
        },
        "id": "UgipS4Om2kin"
      },
      "outputs": [],
      "source": [
        "optimizer = torch.optim.SGD(model.parameters(), lr=0.8)"
      ]
    },
    {
      "cell_type": "code",
      "execution_count": null,
      "metadata": {
        "colab": {
          "background_save": true
        },
        "id": "GuSgTnCy3Ebd",
        "outputId": "fe42373f-2b5e-4f87-c2d4-5e9de7ccef18"
      },
      "outputs": [
        {
          "data": {
            "text/plain": [
              "torch.Size([64, 47])"
            ]
          },
          "execution_count": 14,
          "metadata": {},
          "output_type": "execute_result"
        }
      ],
      "source": [
        "outputs = model(torch.randn(64, 784))\n",
        "outputs.shape"
      ]
    },
    {
      "cell_type": "code",
      "execution_count": null,
      "metadata": {
        "colab": {
          "background_save": true
        },
        "id": "-NGXc-wT3MJl",
        "outputId": "59c322fa-d205-4b26-a373-d456d56fc24e"
      },
      "outputs": [
        {
          "data": {
            "text/plain": [
              "Sequential(\n",
              "  (0): Linear(in_features=784, out_features=400, bias=True)\n",
              "  (1): ReLU()\n",
              "  (2): Linear(in_features=400, out_features=47, bias=True)\n",
              ")"
            ]
          },
          "execution_count": 15,
          "metadata": {},
          "output_type": "execute_result"
        }
      ],
      "source": [
        "model.to(\"cuda\")"
      ]
    },
    {
      "cell_type": "code",
      "execution_count": null,
      "metadata": {
        "colab": {
          "background_save": true
        },
        "id": "gqjwQDeIEEnj",
        "outputId": "eb39c0da-3a0a-4aa5-ced7-e5b7de7860bb"
      },
      "outputs": [
        {
          "data": {
            "text/plain": [
              "0.028966480446927373"
            ]
          },
          "execution_count": 16,
          "metadata": {},
          "output_type": "execute_result"
        }
      ],
      "source": [
        "from sklearn.metrics import accuracy_score\n",
        "\n",
        "def evaluate(x):\n",
        "    model.eval()\n",
        "    y_pred = model(x)\n",
        "    y_probas = softmax(y_pred)\n",
        "    return torch.argmax(y_probas, axis=1)\n",
        "\n",
        "y_pred = evaluate(torch.from_numpy(X_test).float().cuda())\n",
        "accuracy_score(y_test, y_pred.cpu().numpy())"
      ]
    },
    {
      "cell_type": "code",
      "execution_count": null,
      "metadata": {
        "colab": {
          "background_save": true
        },
        "id": "2OZ2-Qg2DajS",
        "outputId": "36bcfbdb-9532-4417-e3bd-2330cac736ce"
      },
      "outputs": [
        {
          "name": "stdout",
          "output_type": "stream",
          "text": [
            "Epoch 10/1100 Loss 3.56690\n",
            "Epoch 20/1100 Loss 3.05138\n",
            "Epoch 30/1100 Loss 2.75119\n",
            "Epoch 40/1100 Loss 2.51546\n",
            "Epoch 50/1100 Loss 2.33188\n",
            "Epoch 60/1100 Loss 2.19272\n",
            "Epoch 70/1100 Loss 2.08312\n",
            "Epoch 80/1100 Loss 1.98794\n",
            "Epoch 90/1100 Loss 1.90704\n",
            "Epoch 100/1100 Loss 1.83814\n",
            "Epoch 110/1100 Loss 1.77937\n",
            "Epoch 120/1100 Loss 1.72564\n",
            "Epoch 130/1100 Loss 1.67708\n",
            "Epoch 140/1100 Loss 1.63335\n",
            "Epoch 150/1100 Loss 1.59332\n",
            "Epoch 160/1100 Loss 1.55662\n",
            "Epoch 170/1100 Loss 1.52281\n",
            "Epoch 180/1100 Loss 1.49178\n",
            "Epoch 190/1100 Loss 1.46255\n",
            "Epoch 200/1100 Loss 1.43536\n",
            "Epoch 210/1100 Loss 1.40982\n",
            "Epoch 220/1100 Loss 1.38559\n",
            "Epoch 230/1100 Loss 1.36265\n",
            "Epoch 240/1100 Loss 1.34095\n",
            "Epoch 250/1100 Loss 1.32037\n",
            "Epoch 260/1100 Loss 1.30076\n",
            "Epoch 270/1100 Loss 1.28229\n",
            "Epoch 280/1100 Loss 1.26457\n",
            "Epoch 290/1100 Loss 1.24750\n",
            "Epoch 300/1100 Loss 1.23114\n",
            "Epoch 310/1100 Loss 1.21548\n",
            "Epoch 320/1100 Loss 1.20053\n",
            "Epoch 330/1100 Loss 1.18621\n",
            "Epoch 340/1100 Loss 1.17248\n",
            "Epoch 350/1100 Loss 1.15945\n",
            "Epoch 360/1100 Loss 1.14665\n",
            "Epoch 370/1100 Loss 1.13422\n",
            "Epoch 380/1100 Loss 1.12217\n",
            "Epoch 390/1100 Loss 1.11062\n",
            "Epoch 400/1100 Loss 1.09949\n",
            "Epoch 410/1100 Loss 1.08865\n",
            "Epoch 420/1100 Loss 1.07813\n",
            "Epoch 430/1100 Loss 1.06793\n",
            "Epoch 440/1100 Loss 1.05802\n",
            "Epoch 450/1100 Loss 1.04841\n",
            "Epoch 460/1100 Loss 1.03907\n",
            "Epoch 470/1100 Loss 1.03000\n",
            "Epoch 480/1100 Loss 1.02117\n",
            "Epoch 490/1100 Loss 1.01259\n",
            "Epoch 500/1100 Loss 1.00424\n",
            "Epoch 510/1100 Loss 0.99611\n",
            "Epoch 520/1100 Loss 0.98820\n",
            "Epoch 530/1100 Loss 0.98070\n",
            "Epoch 540/1100 Loss 0.97332\n",
            "Epoch 550/1100 Loss 0.96603\n",
            "Epoch 560/1100 Loss 0.95887\n",
            "Epoch 570/1100 Loss 0.95191\n",
            "Epoch 580/1100 Loss 0.94518\n",
            "Epoch 590/1100 Loss 0.93854\n",
            "Epoch 600/1100 Loss 0.93204\n",
            "Epoch 610/1100 Loss 0.92575\n",
            "Epoch 620/1100 Loss 0.91961\n",
            "Epoch 630/1100 Loss 0.91354\n",
            "Epoch 640/1100 Loss 0.90757\n",
            "Epoch 650/1100 Loss 0.90170\n",
            "Epoch 660/1100 Loss 0.89595\n",
            "Epoch 670/1100 Loss 0.89042\n",
            "Epoch 680/1100 Loss 0.88497\n",
            "Epoch 690/1100 Loss 0.87963\n",
            "Epoch 700/1100 Loss 0.87442\n",
            "Epoch 710/1100 Loss 0.86926\n",
            "Epoch 720/1100 Loss 0.86418\n",
            "Epoch 730/1100 Loss 0.85918\n",
            "Epoch 740/1100 Loss 0.85428\n",
            "Epoch 750/1100 Loss 0.84954\n",
            "Epoch 760/1100 Loss 0.84487\n",
            "Epoch 770/1100 Loss 0.84024\n",
            "Epoch 780/1100 Loss 0.83569\n",
            "Epoch 790/1100 Loss 0.83128\n",
            "Epoch 800/1100 Loss 0.82691\n",
            "Epoch 810/1100 Loss 0.82258\n",
            "Epoch 820/1100 Loss 0.81839\n",
            "Epoch 830/1100 Loss 0.81424\n",
            "Epoch 840/1100 Loss 0.81013\n",
            "Epoch 850/1100 Loss 0.80607\n",
            "Epoch 860/1100 Loss 0.80207\n",
            "Epoch 870/1100 Loss 0.79813\n",
            "Epoch 880/1100 Loss 0.79426\n",
            "Epoch 890/1100 Loss 0.79049\n",
            "Epoch 900/1100 Loss 0.78675\n",
            "Epoch 910/1100 Loss 0.78304\n",
            "Epoch 920/1100 Loss 0.77947\n",
            "Epoch 930/1100 Loss 0.77597\n",
            "Epoch 940/1100 Loss 0.77249\n",
            "Epoch 950/1100 Loss 0.76903\n",
            "Epoch 960/1100 Loss 0.76560\n",
            "Epoch 970/1100 Loss 0.76221\n",
            "Epoch 980/1100 Loss 0.75888\n",
            "Epoch 990/1100 Loss 0.75564\n",
            "Epoch 1000/1100 Loss 0.75244\n",
            "Epoch 1010/1100 Loss 0.74929\n",
            "Epoch 1020/1100 Loss 0.74615\n",
            "Epoch 1030/1100 Loss 0.74304\n",
            "Epoch 1040/1100 Loss 0.73997\n",
            "Epoch 1050/1100 Loss 0.73693\n",
            "Epoch 1060/1100 Loss 0.73393\n",
            "Epoch 1070/1100 Loss 0.73100\n",
            "Epoch 1080/1100 Loss 0.72813\n",
            "Epoch 1090/1100 Loss 0.72524\n",
            "Epoch 1100/1100 Loss 0.72238\n"
          ]
        },
        {
          "data": {
            "text/plain": [
              "0.8234357541899441"
            ]
          },
          "execution_count": 17,
          "metadata": {},
          "output_type": "execute_result"
        }
      ],
      "source": [
        "X_t = torch.from_numpy(X_train).float().cuda()\n",
        "Y_t = torch.from_numpy(y_train).long().cuda()\n",
        "\n",
        "criterion = torch.nn.CrossEntropyLoss()\n",
        "optimizer = torch.optim.SGD(model.parameters(), lr=0.8)\n",
        "\n",
        "epochs = 1100\n",
        "log_each = 10\n",
        "l = []\n",
        "model.train()\n",
        "for e in range(1, epochs+1): \n",
        "    \n",
        "    # forward\n",
        "    y_pred = model(X_t)\n",
        "\n",
        "    # loss\n",
        "    loss = criterion(y_pred, Y_t)\n",
        "    l.append(loss.item())\n",
        "    \n",
        "    # ponemos a cero los gradientes\n",
        "    optimizer.zero_grad()\n",
        "\n",
        "    # Backprop (calculamos todos los gradientes automáticamente)\n",
        "    loss.backward()\n",
        "\n",
        "    # update de los pesos\n",
        "    optimizer.step()\n",
        "    \n",
        "    if not e % log_each:\n",
        "        print(f\"Epoch {e}/{epochs} Loss {np.mean(l):.5f}\")\n",
        "        \n",
        "y_pred = evaluate(torch.from_numpy(X_test).float().cuda())\n",
        "accuracy_score(y_test, y_pred.cpu().numpy())"
      ]
    },
    {
      "cell_type": "code",
      "execution_count": null,
      "metadata": {
        "colab": {
          "background_save": true
        },
        "id": "HWgYowlaEFdn",
        "outputId": "7bfac62b-ef84-495e-fc7d-14da358cb919"
      },
      "outputs": [
        {
          "name": "stderr",
          "output_type": "stream",
          "text": [
            "<ipython-input-18-2f07d55f9aab>:9: UserWarning: Creating a tensor from a list of numpy.ndarrays is extremely slow. Please consider converting the list to a single numpy.ndarray with numpy.array() before converting to a tensor. (Triggered internally at ../torch/csrc/utils/tensor_new.cpp:230.)\n",
            "  y_pred = evaluate(torch.tensor([img]).float().cuda())[0]\n"
          ]
        },
        {
          "data": {
            "image/png": "[encoded data removed]",
            "text/plain": [
              "<Figure size 720x432 with 15 Axes>"
            ]
          },
          "metadata": {},
          "output_type": "display_data"
        }
      ],
      "source": [
        "r, c = 3, 5\n",
        "fig = plt.figure(figsize=(2*c, 2*r))\n",
        "test_imgs, test_labs = [], []\n",
        "for _r in range(r):\n",
        "    for _c in range(c):\n",
        "        plt.subplot(r, c, _r*c + _c + 1)\n",
        "        ix = random.randint(0, len(X_test)-1)\n",
        "        img = X_test[ix]\n",
        "        y_pred = evaluate(torch.tensor([img]).float().cuda())[0]\n",
        "        img = img.reshape(28,28)\n",
        "        img = np.fliplr(img)\n",
        "        img = np.rot90(img)\n",
        "        plt.imshow(img, cmap='gray')\n",
        "        plt.axis(\"off\")\n",
        "        plt.title(f\"{y_test[ix]}/{y_pred}\", color=\"green\" if y_test[ix] == y_pred else \"red\")\n",
        "plt.tight_layout()\n",
        "plt.show()"
      ]
    }
  ],
  "metadata": {
    "accelerator": "GPU",
    "colab": {
      "provenance": []
    },
    "gpuClass": "standard",
    "kernelspec": {
      "display_name": "Python 3",
      "name": "python3"
    },
    "language_info": {
      "name": "python"
    }
  },
  "nbformat": 4,
  "nbformat_minor": 0
}